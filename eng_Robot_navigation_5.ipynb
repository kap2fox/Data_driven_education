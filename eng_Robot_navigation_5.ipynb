{
  "nbformat": 4,
  "nbformat_minor": 0,
  "metadata": {
    "colab": {
      "provenance": [],
      "authorship_tag": "ABX9TyOiL76Fa20gsWdWVLPm9j8H",
      "include_colab_link": true
    },
    "kernelspec": {
      "name": "python3",
      "display_name": "Python 3"
    },
    "language_info": {
      "name": "python"
    }
  },
  "cells": [
    {
      "cell_type": "markdown",
      "metadata": {
        "id": "view-in-github",
        "colab_type": "text"
      },
      "source": [
        "<a href=\"https://colab.research.google.com/github/kap2fox/Data_driven_education/blob/main/eng_Robot_navigation_5.ipynb\" target=\"_parent\"><img src=\"https://colab.research.google.com/assets/colab-badge.svg\" alt=\"Open In Colab\"/></a>"
      ]
    },
    {
      "cell_type": "markdown",
      "metadata": {
        "id": "7He0UkcuWQhD"
      },
      "source": [
        "# Robot motion to a point\n",
        "Import of neccesary libraries."
      ]
    },
    {
      "cell_type": "code",
      "metadata": {
        "id": "cv4xXXicWAe2"
      },
      "source": [
        "import numpy as np                                  # library used for working with arrays\n",
        "import matplotlib.pyplot as plt                     # library for creating visualizations\n",
        "from scipy.integrate import odeint                  # sub-package for an ordinary differential equation integrator\n",
        "import math as m                                    # access to the mathematical functions defined by the C standard"
      ],
      "execution_count": 1,
      "outputs": []
    },
    {
      "cell_type": "markdown",
      "metadata": {
        "id": "JFnCLTtMWQ5A"
      },
      "source": [
        "Setting parameters and a time."
      ]
    },
    {
      "cell_type": "code",
      "metadata": {
        "id": "MVb6DnmtWFdd"
      },
      "source": [
        "T_m = 0.08                                          # electromechanical time constant\n",
        "k_e = 0.5                                           # constructive constant of the motor\n",
        "n = 15001                                           # number of simulation steps\n",
        "t = np.linspace(0,15,n)                             # setting of time space\n",
        "B = 0.15                                            # base distance of the robot\n",
        "r = 0.026                                           # wheel radius"
      ],
      "execution_count": 2,
      "outputs": []
    },
    {
      "cell_type": "markdown",
      "metadata": {
        "id": "1dA-7WCQXlHZ"
      },
      "source": [
        "DC modern model description according to the system of differential equations:\n",
        "\n",
        "$$\n",
        "\\left\\{\n",
        "    \\begin{array}\\\\\n",
        "        \\dot\\omega=\\frac{U}{T_m k_e}-\\frac{\\omega}{T_m}, \\\\\n",
        "        \\dot\\theta=\\omega.\n",
        "    \\end{array} \\tag{1}\n",
        "\\right.\n",
        "$$"
      ]
    },
    {
      "cell_type": "code",
      "metadata": {
        "id": "VRgszDKdWICi"
      },
      "source": [
        "def motor(state,t,u):\n",
        "    speed, angle = state                            # setting a DC motor state vector as [speed, angle]\n",
        "    state_dt = [-speed/T_m + u/ (T_m * k_e), speed ]# description of the ODE system\n",
        "    return state_dt"
      ],
      "execution_count": 3,
      "outputs": []
    },
    {
      "cell_type": "markdown",
      "metadata": {
        "id": "2W1ylLTmXqTi"
      },
      "source": [
        "Set up of environmental variables."
      ]
    },
    {
      "cell_type": "code",
      "metadata": {
        "id": "XH5c13QxWK1s"
      },
      "source": [
        "state_l = [0 , 0]                                   # state of the left motor\n",
        "state_r = [0 , 0]                                   # state of the right motor\n",
        "control_l = np.zeros(n)                             # control signal array for the left motor\n",
        "control_r = np.zeros(n)                             # control signal array for the right motor\n",
        "theta_l = np.zeros(n)                               # left motor rotation angle\n",
        "theta_r = np.zeros(n)                               # right motor rotation angle\n",
        "x = np.zeros(n)                                     # X coordinates\n",
        "y = np.zeros(n)                                     # Y coordinates\n",
        "path = np.zeros(n)                                  # calculated path\n",
        "course = np.zeros(n)                                # course angle array\n",
        "distance = np.zeros(n)                              # distance to the point\n",
        "bearing = np.zeros(n)                               # robot bearing angle array\n",
        "courseAngle = np.zeros(n)                           # массив курсовых углов\n",
        "X_ref = -1                                          # X coordinate of the point\n",
        "Y_ref = -1                                          # Y coordinate of the point\n",
        "distance [0] = m.sqrt((X_ref)**2+(Y_ref)**2)        # distance to the point\n",
        "bearing [0] = m.atan2(Y_ref,X_ref)                  # bearing angle"
      ],
      "execution_count": 16,
      "outputs": []
    },
    {
      "cell_type": "markdown",
      "metadata": {
        "id": "0_MbMXB7XRUK"
      },
      "source": [
        "The basic mathematical description of the differential drive robot is:\n",
        "\n",
        "$$\n",
        "\\left\\{\n",
        "    \\begin{array}\\\\\n",
        "        x = x + \\Delta path \\, \\cos(course), \\\\\n",
        "        y = y + \\Delta path \\, \\sin(course), \\\\\n",
        "        \\psi = (\\theta_r-\\theta_l)\\frac{r}{B}.\n",
        "    \\end{array}\n",
        "\\right. \\tag{2}\n",
        "$$\n",
        "\n",
        "In the polar coordinates robot description with linear velocity $v$ and angular velocity $\\omega$\n",
        "\n",
        "$$\n",
        "\\left\\{\n",
        "    \\begin{array}\\\\\n",
        "        \\dot{distance} = - v \\cos(courseAngle), \\\\\n",
        "        \\dot{courseAngle} = - \\omega + v\\cfrac{\\sin(courseAngle)}{distance}, \\\\\n",
        "        courseAngle = bearing - course.\n",
        "    \\end{array}\n",
        "\\right. \\tag{3}\n",
        "$$\n",
        "\n",
        "Lyapunov equation for the differential drive mobile robot $V=\\cfrac{1}{2}{distance}^2+\\cfrac{1}{2}{courseAngle}^2$ and it's derivative $\\dot{V}=- v \\cos(courseAngle)\\,distance + courseAngle (- \\omega + v\\cfrac{\\sin(courseAngle)}{distance})$. To make a derivative of Lyapunov equation not positive linear and angular velosities can be set as:\n",
        "\n",
        "$$\n",
        "\\left\\{\n",
        "    \\begin{array}\\\\\n",
        "        v = v_{max} \\cdot \\cos(courseAngle)\\cdot distance, \\\\\n",
        "        \\omega = \\omega_{max}\\cdot courseAngle + v_{max}\\cdot\\cos(courseAngle)\\sin(courseAngle), \\\\\n",
        "    \\end{array}\n",
        "\\right. \\tag{4}\n",
        "$$"
      ]
    },
    {
      "cell_type": "code",
      "metadata": {
        "id": "kMREmxsKkhy6",
        "colab": {
          "base_uri": "https://localhost:8080/",
          "height": 448
        },
        "outputId": "ddbcc864-79c7-4ec7-bcc6-b435a21ea08d"
      },
      "source": [
        "for i in range(1,n):\n",
        "\n",
        "    path[i] = (theta_r[i-1] + theta_l[i-1]) * r / 2                             # calculation of the distance traveled\n",
        "    course[i] = (theta_r[i-1] - theta_l[i-1]) * r / B                           # calculation of the robot's rotation angle\n",
        "    x[i] = x[i-1] + (path[i]-path[i-1]) * m.cos(course[i])                      # X coordinate computation\n",
        "    y[i] = y[i-1] + (path[i]-path[i-1]) * m.sin(course[i])                      # Y coordinate computation\n",
        "    distance [i] = m.sqrt((X_ref - x[i])**2+(Y_ref - y[i])**2)                  # distance to the goal\n",
        "    bearing [i] = m.atan2(Y_ref - y[i],X_ref - x[i])                            # bearing angle\n",
        "    courseAngle [i] = bearing [i] - course [i]                                  # releative heading angle\n",
        "    if courseAngle[i] > np.pi:\n",
        "            courseAngle[i] = courseAngle[i] - 2 * np.pi\n",
        "    if courseAngle[i] < -np.pi:\n",
        "            courseAngle[i] = courseAngle[i] + 2 * np.pi                         # bringing the heading angle to the range [-pi, pi]\n",
        "\n",
        "    control_l [i] = 6 * np.cos (courseAngle [i]) * np.tanh(distance [i]) - 2 * (courseAngle [i]) # nonlinear control signal according Lyapunov function\n",
        "    control_r [i] = 6 * np.cos (courseAngle [i]) * np.tanh(distance [i]) + 2 * (courseAngle [i]) # nonlinear control signal according Lyapunov function\n",
        "    #control_l [i] = 4 * distance [i] - 4 * courseAngle [i]                      # proportional controller\n",
        "    #control_r [i] = 4 * distance [i] + 4 * courseAngle [i]                      # proportional controller\n",
        "    if control_l[i] > 8:\n",
        "            control_l[i] = 8\n",
        "    if control_l[i] < -8:\n",
        "            control_l[i] = -8\n",
        "    if control_r[i] > 8:\n",
        "            control_r[i] = 8\n",
        "    if control_r[i] < -8:\n",
        "            control_r[i] = -8                                                   # limitation of the control signal\n",
        "\n",
        "    motor_l = odeint(motor, state_l,[t[i-1],t[i]],args=(control_l [i],))        # ODE solution for the left motor\n",
        "    state_l = motor_l[1,:]                                                      # getting a state of the left motor\n",
        "    theta_l[i] = motor_l[1,1]                                                   # left motor rotation\n",
        "    motor_r = odeint(motor, state_r,[t[i-1],t[i]],args=(control_r [i],))        # ODE solution for the right motor\n",
        "    state_r = motor_r[1,:]                                                      # getting a state of the right motor\n",
        "    theta_r[i] = motor_r[1,1]                                                   # right motor rotation\n",
        "\n",
        "plt.plot(x, y)"
      ],
      "execution_count": 17,
      "outputs": [
        {
          "output_type": "execute_result",
          "data": {
            "text/plain": [
              "[<matplotlib.lines.Line2D at 0x7bf15d75bf90>]"
            ]
          },
          "metadata": {},
          "execution_count": 17
        },
        {
          "output_type": "display_data",
          "data": {
            "text/plain": [
              "<Figure size 640x480 with 1 Axes>"
            ],
            "image/png": "[encoded data removed]"
          },
          "metadata": {}
        }
      ]
    }
  ]
}